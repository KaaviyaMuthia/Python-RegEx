{
 "cells": [
  {
   "cell_type": "code",
   "execution_count": 2,
   "id": "94020dae",
   "metadata": {},
   "outputs": [
    {
     "name": "stdout",
     "output_type": "stream",
     "text": [
      "Enter a number:abb\n",
      "true\n"
     ]
    }
   ],
   "source": [
    "import re\n",
    "def text_match(text):\n",
    "        patterns = '^a(b*)$'\n",
    "        if re.search(patterns,text):\n",
    "                return 'true'\n",
    "        else:\n",
    "                return 'false'\n",
    "value=input(\"Enter a number:\")\n",
    "print(text_match(value))\n"
   ]
  },
  {
   "cell_type": "code",
   "execution_count": null,
   "id": "a14b939e",
   "metadata": {},
   "outputs": [],
   "source": [
    "def text_match(text):\n",
    "        patterns = 'ab{3}?'\n",
    "        if re.search(patterns,  text):\n",
    "                return 'true'\n",
    "        else:\n",
    "                return 'false'\n",
    "value=input(\"Enter a number:\")\n",
    "print(text_match(value))"
   ]
  },
  {
   "cell_type": "code",
   "execution_count": null,
   "id": "401deb1c",
   "metadata": {},
   "outputs": [],
   "source": [
    "def text_match(text):\n",
    "        patterns = 'ab+?'\n",
    "        if re.search(patterns,  text):\n",
    "                return 'true'\n",
    "        else:\n",
    "                return 'false'\n",
    "value=input(\"Enter a number:\")\n",
    "print(text_match(value))"
   ]
  }
 ],
 "metadata": {
  "kernelspec": {
   "display_name": "Python 3",
   "language": "python",
   "name": "python3"
  },
  "language_info": {
   "codemirror_mode": {
    "name": "ipython",
    "version": 3
   },
   "file_extension": ".py",
   "mimetype": "text/x-python",
   "name": "python",
   "nbconvert_exporter": "python",
   "pygments_lexer": "ipython3",
   "version": "3.8.8"
  }
 },
 "nbformat": 4,
 "nbformat_minor": 5
}
