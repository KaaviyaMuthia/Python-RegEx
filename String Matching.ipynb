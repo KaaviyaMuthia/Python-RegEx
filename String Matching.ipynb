{
 "cells": [
  {
   "cell_type": "code",
   "execution_count": 2,
   "id": "5292ca80",
   "metadata": {},
   "outputs": [
    {
     "name": "stdout",
     "output_type": "stream",
     "text": [
      "(0, 7)\n",
      "kaaviya was born in singapore\n",
      "kaaviya\n"
     ]
    }
   ],
   "source": [
    "#regular expression-analyze data\n",
    "#Special sequence(pattern):--\\A \\b \\d \\D \\s \\S \\w \\W\n",
    "#string return the input from the regular expression\n",
    "#span return finded data from the object\n",
    "#group return pattern from the regular expression\n",
    "import re\n",
    "name='kaaviya was born in singapore'\n",
    "finding=re.search('\\Akaaviya',name)\n",
    "print(finding.span())\n",
    "print(finding.string)\n",
    "print(finding.group())\n",
    "#use \\a, checks whether the value in \\a is in \n",
    "#use search for 1 data and findall for all data"
   ]
  },
  {
   "cell_type": "code",
   "execution_count": 22,
   "id": "a2e053d9",
   "metadata": {},
   "outputs": [
    {
     "name": "stdout",
     "output_type": "stream",
     "text": [
      "['2', '0', '0', '9']\n"
     ]
    }
   ],
   "source": [
    "name='kaaviya was born in singapore on 2009'\n",
    "finding=re.findall(r'\\bkaaviya',name)\n",
    "digit=re.findall('\\d',name)\n",
    "print(digit)"
   ]
  },
  {
   "cell_type": "code",
   "execution_count": 23,
   "id": "6b9fa025",
   "metadata": {},
   "outputs": [
    {
     "name": "stdout",
     "output_type": "stream",
     "text": [
      "kaaviya was born in singapore on \n"
     ]
    }
   ],
   "source": [
    "name='kaaviya was born in singapore on 2009'\n",
    "non_digit=''.join(re.findall('\\D',name))\n",
    "print(non_digit)"
   ]
  },
  {
   "cell_type": "code",
   "execution_count": 24,
   "id": "ec4effa0",
   "metadata": {},
   "outputs": [
    {
     "name": "stdout",
     "output_type": "stream",
     "text": [
      "4 25\n"
     ]
    }
   ],
   "source": [
    "#counting no of objects with space and no space\n",
    "name='kaaviya was born in singapore'\n",
    "space=len(re.findall('\\s',name))\n",
    "non_space=len(re.findall('\\S',name))\n",
    "print(space,non_space)"
   ]
  },
  {
   "cell_type": "code",
   "execution_count": 25,
   "id": "8acbfed3",
   "metadata": {},
   "outputs": [
    {
     "name": "stdout",
     "output_type": "stream",
     "text": [
      "[' ', ' ', ' ', ' ', ' ', '@', ' '] kaaviyawasborninsingapore2009\n"
     ]
    }
   ],
   "source": [
    "#counting no of special characters and non special characters\n",
    "name='kaaviya was born in singapore @ 2009'\n",
    "specialchar=re.findall('\\W',name)\n",
    "nonspecial=''.join(re.findall('\\w',name))\n",
    "print(specialchar,nonspecial)"
   ]
  },
  {
   "cell_type": "code",
   "execution_count": 26,
   "id": "01cfcbd9",
   "metadata": {},
   "outputs": [
    {
     "name": "stdout",
     "output_type": "stream",
     "text": [
      "singapore\n"
     ]
    }
   ],
   "source": [
    "name='kaaviya was born in singapore'\n",
    "end_with=re.search('singapore\\Z',name)\n",
    "print(end_with.group())"
   ]
  },
  {
   "cell_type": "code",
   "execution_count": 27,
   "id": "609739f8",
   "metadata": {},
   "outputs": [
    {
     "name": "stdout",
     "output_type": "stream",
     "text": [
      "['k', 'v', 'i', 'y', ' ', 'w', 's', ' ', 'b', 'o', 'r', 'n', ' ', 'i', 'n', ' ', 's', 'i', 'n', 'g', 'p', 'o', 'r', 'e']\n"
     ]
    }
   ],
   "source": [
    "#searching sets of characters without 'a'\n",
    "chars=re.findall('[^a]',name)\n",
    "print(chars)"
   ]
  },
  {
   "cell_type": "code",
   "execution_count": 44,
   "id": "919cb50d",
   "metadata": {},
   "outputs": [
    {
     "name": "stdout",
     "output_type": "stream",
     "text": [
      "['3', '0', '0', '2', '0', '0']\n"
     ]
    }
   ],
   "source": [
    "import re\n",
    "\n",
    "name='Kaaviya was born in singapore in 30 09 2009'\n",
    "searching_set_character=re.findall('[q]',name)\n",
    "# searching set of character from the given string [abc]\n",
    "\n",
    "searching_set_characters=re.findall('[a-z A-z]',name)\n",
    "# searching for range of character from the given string [a-z]\n",
    "# if mention space in your pattern that space also return in your list\n",
    "\n",
    "removing_set_character=re.findall('[^a]',name) \n",
    "# removing set of charcter from the given string [^a]\n",
    "searching_numbers=re.findall('[012345]',name) \n",
    "# Finding set of digits from the given string\n",
    "\n",
    "print(searching_numbers)"
   ]
  },
  {
   "cell_type": "code",
   "execution_count": 37,
   "id": "0ed5681f",
   "metadata": {},
   "outputs": [
    {
     "name": "stdout",
     "output_type": "stream",
     "text": [
      "<re.Match object; span=(0, 7), match='kaaviya'>       ['born']       ['3', '0', '0', '9', '2', '0', '0', '9']       kaaviya was born in singapore @   \n"
     ]
    }
   ],
   "source": [
    "import re\n",
    "\n",
    "name='kaaviya was born in singapore @ 30 09 2009'\n",
    "\n",
    "searching_begin=re.search('\\Akaaviya',name) \n",
    "# Finding the word at the begin of the given string \\A\n",
    "\n",
    "searching_any_where=(re.findall(r'\\bborn',name))\n",
    "# Finding the word any where from the given string \\b (definetly use r)\n",
    "\n",
    "searching_digit=(re.findall('\\d',name))\n",
    "# Finding the digit from the given string \\d\n",
    "\n",
    "searching_non_digit=''.join(re.findall('\\D',name)) \n",
    "# Finding the Non Digit From the given string \\D\n",
    "print(searching_begin,\"     \",searching_any_where,\"     \",searching_digit,\"     \",searching_non_digit)"
   ]
  },
  {
   "cell_type": "code",
   "execution_count": 40,
   "id": "95b2d2cd",
   "metadata": {},
   "outputs": [
    {
     "name": "stdout",
     "output_type": "stream",
     "text": [
      "['2', '0', '0', '9']\n"
     ]
    }
   ],
   "source": [
    "name='kaaviya was born in singapore on 2009'\n",
    "finding=re.findall(r'\\bkaaviya',name)\n",
    "digit=re.findall('\\d',name)\n",
    "print(digit)"
   ]
  },
  {
   "cell_type": "code",
   "execution_count": 48,
   "id": "ca01cf19",
   "metadata": {},
   "outputs": [
    {
     "name": "stdout",
     "output_type": "stream",
     "text": [
      "1\n"
     ]
    }
   ],
   "source": [
    "name='Kaaviya was born in singapore in 30 09 2009'\n",
    "searching_set_characters=re.findall('[A-Z]',name)\n",
    "print(len(searching_set_characters))"
   ]
  },
  {
   "cell_type": "code",
   "execution_count": 49,
   "id": "f09259e5",
   "metadata": {},
   "outputs": [
    {
     "name": "stdout",
     "output_type": "stream",
     "text": [
      "26\n"
     ]
    }
   ],
   "source": [
    "name='Kaaviya was born in singapore in 30 09 2009'\n",
    "searching_set_characters=re.findall('[a-z]',name)\n",
    "print(len(searching_set_characters))"
   ]
  },
  {
   "cell_type": "code",
   "execution_count": 50,
   "id": "dbf82bc0",
   "metadata": {},
   "outputs": [
    {
     "name": "stdout",
     "output_type": "stream",
     "text": [
      "8\n"
     ]
    }
   ],
   "source": [
    "specialchar=re.findall('\\W',name)\n",
    "print(len(specialchar))"
   ]
  },
  {
   "cell_type": "code",
   "execution_count": 51,
   "id": "7d505fa3",
   "metadata": {},
   "outputs": [
    {
     "name": "stdout",
     "output_type": "stream",
     "text": [
      "4\n"
     ]
    }
   ],
   "source": [
    "name='kaaviya was born in singapore'\n",
    "space=len(re.findall('\\s',name))\n",
    "print(space)"
   ]
  },
  {
   "cell_type": "code",
   "execution_count": 7,
   "id": "bc823e57",
   "metadata": {},
   "outputs": [
    {
     "name": "stdout",
     "output_type": "stream",
     "text": [
      "Enter: aa^\n",
      "Failure\n"
     ]
    }
   ],
   "source": [
    "import re\n",
    "text = input(\"Enter: \")\n",
    "result = re.sub(\"[A-Za-z0-9]\", '', text)\n",
    "if len(result) == 0:\n",
    "    print(\"Success\")\n",
    "else:\n",
    "    print(\"Failure\")"
   ]
  },
  {
   "cell_type": "code",
   "execution_count": null,
   "id": "773acaeb",
   "metadata": {},
   "outputs": [],
   "source": []
  },
  {
   "cell_type": "code",
   "execution_count": 6,
   "id": "524423d2",
   "metadata": {},
   "outputs": [
    {
     "name": "stdout",
     "output_type": "stream",
     "text": [
      "Enter a word:ahhhb\n",
      "Search successful.\n"
     ]
    }
   ],
   "source": [
    "import re\n",
    "\n",
    "pattern = '^a...b$'\n",
    "test_string =input(\"Enter a word:\")\n",
    "result = re.match(pattern, test_string)\n",
    "\n",
    "if result:\n",
    "  print(\"Search successful.\")\n",
    "else:\n",
    "  print(\"Search unsuccessful.\")"
   ]
  },
  {
   "cell_type": "code",
   "execution_count": null,
   "id": "2e932c26",
   "metadata": {},
   "outputs": [],
   "source": []
  }
 ],
 "metadata": {
  "kernelspec": {
   "display_name": "Python 3",
   "language": "python",
   "name": "python3"
  },
  "language_info": {
   "codemirror_mode": {
    "name": "ipython",
    "version": 3
   },
   "file_extension": ".py",
   "mimetype": "text/x-python",
   "name": "python",
   "nbconvert_exporter": "python",
   "pygments_lexer": "ipython3",
   "version": "3.8.8"
  }
 },
 "nbformat": 4,
 "nbformat_minor": 5
}
